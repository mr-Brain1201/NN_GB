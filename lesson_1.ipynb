{
 "cells": [
  {
   "cell_type": "markdown",
   "metadata": {},
   "source": [
    "# Введение в искусственные нейронные сети\n",
    "## Урок 1. Основы обучения нейронных сетей"
   ]
  },
  {
   "cell_type": "markdown",
   "metadata": {},
   "source": [
    "1. Попробуйте видоизменить параметры разобранной на уроке двухслойной нейронной сети таким образом, чтобы улучшить ее точность (число нейронов, число эпох , можно изменять число слоев).\n",
    "2. Проведите анализ — что приводит к ухудшению точности нейронной сети? Что приводит к увеличению ее точности?"
   ]
  },
  {
   "cell_type": "code",
   "execution_count": 1,
   "metadata": {},
   "outputs": [],
   "source": [
    "import numpy as np\n",
    "import pandas as pd\n",
    "import seaborn as sns\n",
    "import matplotlib.pyplot as plt\n",
    "\n",
    "from sklearn.datasets import load_iris\n",
    "from sklearn.preprocessing import MinMaxScaler\n",
    "from sklearn.model_selection import train_test_split\n",
    "\n",
    "from scipy.special import expit # sigmoid   1/(1+np.exp(-x))\n",
    "\n",
    "import warnings\n",
    "warnings.simplefilter(action='ignore', category=FutureWarning)"
   ]
  },
  {
   "cell_type": "code",
   "execution_count": 2,
   "metadata": {},
   "outputs": [],
   "source": [
    "### Шаг 0. Подготовка данных.\n",
    "data = load_iris()\n",
    "data_X = pd.DataFrame(data.data, columns=data.feature_names)\n",
    "data_y = pd.DataFrame(data.target, columns=['y'])"
   ]
  },
  {
   "cell_type": "code",
   "execution_count": 3,
   "metadata": {},
   "outputs": [
    {
     "data": {
      "text/plain": [
       "array([[0.22222222, 0.625     , 0.06779661, 0.04166667],\n",
       "       [0.16666667, 0.41666667, 0.06779661, 0.04166667],\n",
       "       [0.11111111, 0.5       , 0.05084746, 0.04166667],\n",
       "       [0.08333333, 0.45833333, 0.08474576, 0.04166667],\n",
       "       [0.19444444, 0.66666667, 0.06779661, 0.04166667]])"
      ]
     },
     "execution_count": 3,
     "metadata": {},
     "output_type": "execute_result"
    }
   ],
   "source": [
    "scaler = MinMaxScaler()\n",
    "cols_for_scale = data_X.columns.tolist()\n",
    "data_X[cols_for_scale] = scaler.fit_transform(data_X[cols_for_scale])\n",
    "X = data_X.values\n",
    "X[:5, :]"
   ]
  },
  {
   "cell_type": "code",
   "execution_count": 4,
   "metadata": {},
   "outputs": [
    {
     "data": {
      "text/plain": [
       "array([[1, 0, 0],\n",
       "       [1, 0, 0],\n",
       "       [1, 0, 0],\n",
       "       [1, 0, 0],\n",
       "       [1, 0, 0]], dtype=uint8)"
      ]
     },
     "execution_count": 4,
     "metadata": {},
     "output_type": "execute_result"
    }
   ],
   "source": [
    "y = pd.get_dummies(data_y['y']).values\n",
    "y[:5, :]"
   ]
  },
  {
   "cell_type": "code",
   "execution_count": 5,
   "metadata": {},
   "outputs": [],
   "source": [
    "X_train, X_test, y_train, y_test = train_test_split(X, y, test_size=0.4, random_state=12)"
   ]
  },
  {
   "cell_type": "code",
   "execution_count": 6,
   "metadata": {},
   "outputs": [
    {
     "data": {
      "text/plain": [
       "((90, 4), (60, 4))"
      ]
     },
     "execution_count": 6,
     "metadata": {},
     "output_type": "execute_result"
    }
   ],
   "source": [
    "X_train.shape, X_test.shape"
   ]
  },
  {
   "cell_type": "code",
   "execution_count": 7,
   "metadata": {
    "scrolled": true
   },
   "outputs": [
    {
     "name": "stdout",
     "output_type": "stream",
     "text": [
      "45.490488837255214 0 0.07\n",
      "96.25177702244876 1000 0.07\n",
      "97.07774629225206 2000 0.07\n",
      "98.2448492365671 3000 0.07\n",
      "98.67841749835273 4000 0.07\n",
      "98.80892913474324 5000 0.07\n",
      "98.85467015605198 6000 0.07\n",
      "98.84821219627295 7000 0.07\n",
      "98.78837559684843 8000 0.07\n",
      "98.70795990640042 9000 0.07\n",
      "98.64842710298642 10000 0.07\n",
      "98.60186322989925 11000 0.07\n",
      "98.56866920728034 12000 0.07\n",
      "98.54750611805626 13000 0.07\n",
      "98.53374244894191 14000 0.07\n",
      "98.524077826592 15000 0.07\n",
      "98.51680618326941 16000 0.07\n",
      "98.5110533495214 17000 0.07\n",
      "98.5063294429049 18000 0.07\n",
      "98.5023276874945 19000 0.07\n",
      "98.49882664492996 20000 0.07\n",
      "98.4956140922175 21000 0.07\n",
      "98.49234026706158 22000 0.07\n",
      "98.48800305592482 23000 0.07\n",
      "98.47912564985582 24000 0.07\n",
      "98.46156913906245 25000 0.07\n",
      "98.44872291063865 26000 0.07\n",
      "98.44149649810979 27000 0.07\n",
      "98.43531665351485 28000 0.07\n",
      "98.42975243300901 29000 0.07\n",
      "98.42480734493259 30000 0.07\n",
      "98.42045225739324 31000 0.07\n",
      "98.41664858749701 32000 0.07\n",
      "98.41336555466786 33000 0.07\n",
      "98.41058305033687 34000 0.07\n",
      "98.40829054658533 35000 0.07\n",
      "98.40648540559127 36000 0.07\n",
      "98.40517134827367 37000 0.07\n",
      "98.40435714958195 38000 0.07\n",
      "98.40405537990851 39000 0.07\n",
      "98.40428089949653 40000 0.07\n",
      "98.4050487514293 41000 0.07\n",
      "98.40637092188807 42000 0.07\n",
      "98.40825055718182 43000 0.07\n",
      "98.41066806934089 44000 0.07\n",
      "98.41353178924072 45000 0.07\n",
      "98.41641786252801 46000 0.07\n",
      "98.41640282960833 47000 0.07\n",
      "98.39493780937521 48000 0.07\n",
      "98.37752213984598 49000 0.07\n",
      "98.38190816869857 50000 0.07\n",
      "98.41015117187362 51000 0.07\n",
      "98.77621462922335 52000 0.07\n",
      "99.55967296638742 53000 0.07\n",
      "99.7072522152817 54000 0.07\n",
      "99.7660127215743 55000 0.07\n",
      "99.79885769644461 56000 0.07\n",
      "99.82034547541147 57000 0.07\n",
      "99.8357347731206 58000 0.07\n",
      "99.84742538457067 59000 0.07\n",
      "99.8566828943685 60000 0.07\n",
      "99.86424393609228 61000 0.07\n",
      "99.87056912772762 62000 0.07\n",
      "99.87596262200753 63000 0.07\n",
      "99.88063404928836 64000 0.07\n",
      "99.88473298457842 65000 0.07\n",
      "99.8883692510897 66000 0.07\n",
      "99.89162545111174 67000 0.07\n",
      "99.89456500583562 68000 0.07\n",
      "99.8972374858154 69000 0.07\n",
      "99.89968224588681 70000 0.07\n",
      "99.90193096502013 71000 0.07\n",
      "99.9040094592886 72000 0.07\n",
      "99.90593900061829 73000 0.07\n",
      "99.90773729230101 74000 0.07\n",
      "99.90941920157582 75000 0.07\n",
      "99.91099731732899 76000 0.07\n",
      "99.91248237995632 77000 0.07\n",
      "99.91388361646668 78000 0.07\n",
      "99.91520900444812 79000 0.07\n",
      "99.91646548200283 80000 0.07\n",
      "99.91765911620043 81000 0.07\n",
      "99.9187952393653 82000 0.07\n",
      "99.91987856019084 83000 0.07\n",
      "99.92091325498203 84000 0.07\n",
      "99.92190304308501 85000 0.07\n",
      "99.92285124963814 86000 0.07\n",
      "99.92376085808517 87000 0.07\n",
      "99.92463455436624 88000 0.07\n",
      "99.92547476430127 89000 0.07\n",
      "99.9262836853716 90000 0.07\n",
      "99.9270633138659 91000 0.07\n",
      "99.92781546816968 92000 0.07\n",
      "99.92854180883025 93000 0.07\n",
      "99.92924385591245 94000 0.07\n",
      "99.92992300406814 95000 0.07\n",
      "99.93058053566743 96000 0.07\n",
      "99.9312176322803 97000 0.07\n",
      "99.93183538474855 98000 0.07\n",
      "99.93243480204879 99000 0.07\n",
      "Доля правильных ответов: 99.93%\n"
     ]
    }
   ],
   "source": [
    "### Шаг 3. Обученние нейронной сети\n",
    "\n",
    "# определим число нейронов скрытого слоя\n",
    "neuron_numb = 25\n",
    "\n",
    "# присваевание случайных весов\n",
    "# np.random.seed(99)\n",
    "w0 = 2*np.random.random((4, neuron_numb)) - 1 # для входного слоя  \n",
    "\n",
    "w1 = 2*np.random.random((neuron_numb, 5)) - 1 # для внутреннего слоя \n",
    "w2 = 2*np.random.random((5, neuron_numb)) - 1 # для внутреннего слоя\n",
    "\n",
    "w3 = 2*np.random.random((neuron_numb, 3)) - 1 # для выходного слоя\n",
    "\n",
    "# скорость обучения \n",
    "learning_rate = 0.07\n",
    "\n",
    "# массив для ошибок, чтобы потом построить график\n",
    "errors = []\n",
    "\n",
    "stop_iteration = 0\n",
    "\n",
    "# процесс обучения\n",
    "for epoch in range(100000):\n",
    "    # прямое распространение(feed forward)\n",
    "    layer0 = X_train\n",
    "    layer1 = expit(np.dot(layer0, w0))\n",
    "    layer2 = expit(np.dot(layer1, w1))\n",
    "    layer3 = expit(np.dot(layer2, w2))\n",
    "    layer4 = expit(np.dot(layer3, w3))\n",
    "    \n",
    "    layer4_error = y_train - layer4\n",
    "    layer4_delta = layer4_error * layer4 * (1 - layer4) # производная сигмоиды layer4 * (1 - layer4)\n",
    "     \n",
    "    layer3_error = layer4_delta.dot(w3.T)\n",
    "    layer3_delta = layer3_error * layer3 * (1 - layer3)\n",
    "  \n",
    "    layer2_error = layer3_delta.dot(w2.T)\n",
    "    layer2_delta = layer2_error * layer2 * (1 - layer2)\n",
    "    \n",
    "    layer1_error = layer2_delta.dot(w1.T)\n",
    "    layer1_delta = layer1_error * layer1 * (1 - layer1)\n",
    "    \n",
    "    # коррекция\n",
    "    w3 += layer3.T.dot(layer4_delta) * learning_rate\n",
    "    w2 += layer2.T.dot(layer3_delta) * learning_rate \n",
    "    w1 += layer1.T.dot(layer2_delta) * learning_rate \n",
    "    w0 += layer0.T.dot(layer1_delta) * learning_rate\n",
    "    \n",
    "    # метрика модели\n",
    "    error = np.mean(np.abs(layer4_error))\n",
    "    errors.append(error)\n",
    "    accuracy = (1 - error) * 100\n",
    "    \n",
    "#     learning_rate *= 1.00001 \n",
    "    \n",
    "    if epoch % 10000 == 0:\n",
    "        stop_iteration = accuracy\n",
    "    \n",
    "    if epoch % 1000 == 0:\n",
    "        print(accuracy, epoch, learning_rate)\n",
    "        \n",
    "#     if stop_iteration > accuracy:\n",
    "#         break\n",
    "\n",
    "print(\"Доля правильных ответов: \" + str(round(accuracy,2)) + \"%\")"
   ]
  },
  {
   "cell_type": "code",
   "execution_count": 8,
   "metadata": {},
   "outputs": [
    {
     "data": {
      "image/png": "[encoded data removed]",
      "text/plain": [
       "<Figure size 1152x360 with 1 Axes>"
      ]
     },
     "metadata": {
      "needs_background": "light"
     },
     "output_type": "display_data"
    },
    {
     "name": "stdout",
     "output_type": "stream",
     "text": [
      "Доля правильных ответов на тесте 97.17%\n"
     ]
    }
   ],
   "source": [
    "# прямое распространение(feed forward)\n",
    "layer0_t = X_test\n",
    "layer1_t = expit(np.dot(layer0_t, w0))\n",
    "layer2_t = expit(np.dot(layer1_t, w1))\n",
    "layer3_t = expit(np.dot(layer2_t, w2))\n",
    "layer4_t = expit(np.dot(layer3_t, w3))\n",
    "\n",
    "layer4_error_t = y_test - layer4_t\n",
    "  \n",
    "N = 50\n",
    "plt.figure(figsize = (16,5))\n",
    "plt.plot(layer4_t[:N,1], 'r',label = 'Y new')\n",
    "plt.plot(y_test[:N,1],'b', label = 'Y train')\n",
    "plt.xlabel('№ примера')\n",
    "plt.ylabel('выход сети и целевой')\n",
    "plt.grid()\n",
    "plt.legend( )\n",
    "plt.show() # расскоментируйте, чтобы посмотреть\n",
    "\n",
    "# метрика модели\n",
    "error_t = np.mean(np.abs(layer4_error_t))\n",
    "accuracy_t = (1 - error_t) * 100\n",
    "print(\"Доля правильных ответов на тесте \" + str(round(accuracy_t,2)) + \"%\")"
   ]
  },
  {
   "cell_type": "markdown",
   "metadata": {},
   "source": [
    "Делал на скорую руку, поэтому без гридсерча.\n",
    "Прирост качества(доля правильных ответов) нейронной сети обеспечивается за счет увеличения количества эпох обучения, скорости обучения, также прирост обеспечивается за счет увеличения числа нейронов скрытого слоя, количества слоёв и за счет более точного подбора синаптических весов(начальных весов). Небольшое(например 1) количество нейронов, высокая скорость обучения(шаг), малое(не обеспечивающее сходимость) количество эпох обучения - ухудшают результат."
   ]
  },
  {
   "cell_type": "code",
   "execution_count": null,
   "metadata": {},
   "outputs": [],
   "source": []
  }
 ],
 "metadata": {
  "kernelspec": {
   "display_name": "Python 3 (ipykernel)",
   "language": "python",
   "name": "python3"
  },
  "language_info": {
   "codemirror_mode": {
    "name": "ipython",
    "version": 3
   },
   "file_extension": ".py",
   "mimetype": "text/x-python",
   "name": "python",
   "nbconvert_exporter": "python",
   "pygments_lexer": "ipython3",
   "version": "3.10.5"
  }
 },
 "nbformat": 4,
 "nbformat_minor": 2
}
